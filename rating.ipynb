{
 "cells": [
  {
   "cell_type": "code",
   "execution_count": null,
   "id": "9d09d496",
   "metadata": {},
   "outputs": [],
   "source": [
    "import gspread\n",
    "import pandas as pd\n",
    "from google.auth import default\n",
    "from google.colab import auth\n",
    "# подключение к базе гугл таблиц из колаба\n",
    "auth.authenticate_user()\n",
    "creds, _ = default()\n",
    "gc = gspread.authorize(creds)\n",
    "# идентефикатор документа\n",
    "spreadsheet = gc.open_by_key('####')\n",
    "# номер листа документа\n",
    "worksheet = spreadsheet.get_worksheet(#)\n",
    "# создание датафрейма из гугл документа\n",
    "df1 = pd.DataFrame(worksheet.get())\n",
    "df1.columns = df1.iloc[0]\n",
    "df1 = df1.drop(0)\n",
    "df1 = df1.rename(columns={'Электронная почта': 'id'})\n",
    "df1 = df1.astype({'id':'int','new_rating':'int'})\n",
    "# загрузка csv турнира\n",
    "df2 = pd.read_csv('', sep=';')\n",
    "df2 = df2.rename(columns={'Электронная почта': 'id'})\n",
    "df2 = df2.astype({'id':'int'})\n",
    "# объединение датасетов в один и сортировка\n",
    "df_combined = pd.concat([df1, df2]).drop_duplicates(subset='id', keep='last').sort_value('new_rating', ascending=False)\n",
    "df_combined = df_combined[['rank','id', 'name', 'new_rating']]\n",
    "# выгрузка новой таблицы\n",
    "from google.colab import files\n",
    "files.download('rating.csv')"
   ]
  }
 ],
 "metadata": {
  "kernelspec": {
   "display_name": "Python 3 (ipykernel)",
   "language": "python",
   "name": "python3"
  },
  "language_info": {
   "codemirror_mode": {
    "name": "ipython",
    "version": 3
   },
   "file_extension": ".py",
   "mimetype": "text/x-python",
   "name": "python",
   "nbconvert_exporter": "python",
   "pygments_lexer": "ipython3",
   "version": "3.7.9"
  }
 },
 "nbformat": 4,
 "nbformat_minor": 5
}
